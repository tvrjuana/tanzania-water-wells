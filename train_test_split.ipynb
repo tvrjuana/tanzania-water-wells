{
 "cells": [
  {
   "cell_type": "code",
   "execution_count": 33,
   "metadata": {},
   "outputs": [],
   "source": [
    "# Importing packages for train test split\n",
    "import pandas as pd\n",
    "import numpy as np\n",
    "import math\n",
    "import matplotlib.pyplot as plt\n",
    "import seaborn as sns\n",
    "%matplotlib inline\n",
    "from sklearn.preprocessing import OneHotEncoder, StandardScaler\n",
    "from sklearn.impute import MissingIndicator, SimpleImputer\n",
    "from sklearn.dummy import DummyClassifier\n",
    "from sklearn.linear_model import LogisticRegression\n",
    "from sklearn.model_selection import train_test_split, cross_val_score\n",
    "from sklearn.feature_selection import SelectFromModel\n",
    "from sklearn.metrics import accuracy_score, precision_score, recall_score, plot_roc_curve, plot_confusion_matrix\n"
   ]
  },
  {
   "cell_type": "code",
   "execution_count": 34,
   "metadata": {},
   "outputs": [],
   "source": [
    "water_wells = pd.read_csv(\"data/eda_df.csv\", index_col = 0)"
   ]
  },
  {
   "cell_type": "code",
   "execution_count": 35,
   "metadata": {},
   "outputs": [
    {
     "data": {
      "text/html": [
       "<div>\n",
       "<style scoped>\n",
       "    .dataframe tbody tr th:only-of-type {\n",
       "        vertical-align: middle;\n",
       "    }\n",
       "\n",
       "    .dataframe tbody tr th {\n",
       "        vertical-align: top;\n",
       "    }\n",
       "\n",
       "    .dataframe thead th {\n",
       "        text-align: right;\n",
       "    }\n",
       "</style>\n",
       "<table border=\"1\" class=\"dataframe\">\n",
       "  <thead>\n",
       "    <tr style=\"text-align: right;\">\n",
       "      <th></th>\n",
       "      <th>id</th>\n",
       "      <th>amount_tsh</th>\n",
       "      <th>funder</th>\n",
       "      <th>gps_height</th>\n",
       "      <th>installer</th>\n",
       "      <th>longitude</th>\n",
       "      <th>latitude</th>\n",
       "      <th>basin</th>\n",
       "      <th>subvillage</th>\n",
       "      <th>region</th>\n",
       "      <th>...</th>\n",
       "      <th>status_group_num</th>\n",
       "      <th>payment_num</th>\n",
       "      <th>management_num</th>\n",
       "      <th>basin_num</th>\n",
       "      <th>qualtiy_group_num</th>\n",
       "      <th>quantity_num</th>\n",
       "      <th>source_type_num</th>\n",
       "      <th>waterpoint_type_num</th>\n",
       "      <th>region_num</th>\n",
       "      <th>extraction_num</th>\n",
       "    </tr>\n",
       "  </thead>\n",
       "  <tbody>\n",
       "    <tr>\n",
       "      <th>0</th>\n",
       "      <td>69572</td>\n",
       "      <td>6000.0</td>\n",
       "      <td>Roman</td>\n",
       "      <td>1390</td>\n",
       "      <td>Roman</td>\n",
       "      <td>34.938093</td>\n",
       "      <td>-9.856322</td>\n",
       "      <td>Lake Nyasa</td>\n",
       "      <td>Mnyusi B</td>\n",
       "      <td>Iringa</td>\n",
       "      <td>...</td>\n",
       "      <td>0</td>\n",
       "      <td>5</td>\n",
       "      <td>0</td>\n",
       "      <td>6</td>\n",
       "      <td>1</td>\n",
       "      <td>0</td>\n",
       "      <td>0</td>\n",
       "      <td>0</td>\n",
       "      <td>0</td>\n",
       "      <td>0</td>\n",
       "    </tr>\n",
       "    <tr>\n",
       "      <th>1</th>\n",
       "      <td>8776</td>\n",
       "      <td>0.0</td>\n",
       "      <td>Grumeti</td>\n",
       "      <td>1399</td>\n",
       "      <td>GRUMETI</td>\n",
       "      <td>34.698766</td>\n",
       "      <td>-2.147466</td>\n",
       "      <td>Lake Victoria</td>\n",
       "      <td>Nyamara</td>\n",
       "      <td>Mara</td>\n",
       "      <td>...</td>\n",
       "      <td>0</td>\n",
       "      <td>0</td>\n",
       "      <td>1</td>\n",
       "      <td>0</td>\n",
       "      <td>1</td>\n",
       "      <td>1</td>\n",
       "      <td>4</td>\n",
       "      <td>0</td>\n",
       "      <td>14</td>\n",
       "      <td>0</td>\n",
       "    </tr>\n",
       "    <tr>\n",
       "      <th>2</th>\n",
       "      <td>34310</td>\n",
       "      <td>25.0</td>\n",
       "      <td>Lottery Club</td>\n",
       "      <td>686</td>\n",
       "      <td>World vision</td>\n",
       "      <td>37.460664</td>\n",
       "      <td>-3.821329</td>\n",
       "      <td>Pangani</td>\n",
       "      <td>Majengo</td>\n",
       "      <td>Manyara</td>\n",
       "      <td>...</td>\n",
       "      <td>0</td>\n",
       "      <td>1</td>\n",
       "      <td>0</td>\n",
       "      <td>1</td>\n",
       "      <td>1</td>\n",
       "      <td>0</td>\n",
       "      <td>5</td>\n",
       "      <td>3</td>\n",
       "      <td>18</td>\n",
       "      <td>0</td>\n",
       "    </tr>\n",
       "    <tr>\n",
       "      <th>3</th>\n",
       "      <td>67743</td>\n",
       "      <td>0.0</td>\n",
       "      <td>Unicef</td>\n",
       "      <td>263</td>\n",
       "      <td>UNICEF</td>\n",
       "      <td>38.486161</td>\n",
       "      <td>-11.155298</td>\n",
       "      <td>Ruvuma / Southern Coast</td>\n",
       "      <td>Mahakamani</td>\n",
       "      <td>Mtwara</td>\n",
       "      <td>...</td>\n",
       "      <td>1</td>\n",
       "      <td>0</td>\n",
       "      <td>0</td>\n",
       "      <td>7</td>\n",
       "      <td>1</td>\n",
       "      <td>2</td>\n",
       "      <td>2</td>\n",
       "      <td>3</td>\n",
       "      <td>17</td>\n",
       "      <td>3</td>\n",
       "    </tr>\n",
       "    <tr>\n",
       "      <th>4</th>\n",
       "      <td>19728</td>\n",
       "      <td>0.0</td>\n",
       "      <td>Action In A</td>\n",
       "      <td>0</td>\n",
       "      <td>Artisan</td>\n",
       "      <td>31.130847</td>\n",
       "      <td>-1.825359</td>\n",
       "      <td>Lake Victoria</td>\n",
       "      <td>Kyanyamisa</td>\n",
       "      <td>Kagera</td>\n",
       "      <td>...</td>\n",
       "      <td>0</td>\n",
       "      <td>0</td>\n",
       "      <td>7</td>\n",
       "      <td>0</td>\n",
       "      <td>1</td>\n",
       "      <td>3</td>\n",
       "      <td>4</td>\n",
       "      <td>0</td>\n",
       "      <td>6</td>\n",
       "      <td>0</td>\n",
       "    </tr>\n",
       "  </tbody>\n",
       "</table>\n",
       "<p>5 rows × 33 columns</p>\n",
       "</div>"
      ],
      "text/plain": [
       "      id  amount_tsh        funder  gps_height     installer  longitude  \\\n",
       "0  69572      6000.0         Roman        1390         Roman  34.938093   \n",
       "1   8776         0.0       Grumeti        1399       GRUMETI  34.698766   \n",
       "2  34310        25.0  Lottery Club         686  World vision  37.460664   \n",
       "3  67743         0.0        Unicef         263        UNICEF  38.486161   \n",
       "4  19728         0.0   Action In A           0       Artisan  31.130847   \n",
       "\n",
       "    latitude                    basin  subvillage   region  ...  \\\n",
       "0  -9.856322               Lake Nyasa    Mnyusi B   Iringa  ...   \n",
       "1  -2.147466            Lake Victoria     Nyamara     Mara  ...   \n",
       "2  -3.821329                  Pangani     Majengo  Manyara  ...   \n",
       "3 -11.155298  Ruvuma / Southern Coast  Mahakamani   Mtwara  ...   \n",
       "4  -1.825359            Lake Victoria  Kyanyamisa   Kagera  ...   \n",
       "\n",
       "  status_group_num payment_num  management_num basin_num  qualtiy_group_num  \\\n",
       "0                0           5               0         6                  1   \n",
       "1                0           0               1         0                  1   \n",
       "2                0           1               0         1                  1   \n",
       "3                1           0               0         7                  1   \n",
       "4                0           0               7         0                  1   \n",
       "\n",
       "  quantity_num source_type_num waterpoint_type_num region_num extraction_num  \n",
       "0            0               0                   0          0              0  \n",
       "1            1               4                   0         14              0  \n",
       "2            0               5                   3         18              0  \n",
       "3            2               2                   3         17              3  \n",
       "4            3               4                   0          6              0  \n",
       "\n",
       "[5 rows x 33 columns]"
      ]
     },
     "execution_count": 35,
     "metadata": {},
     "output_type": "execute_result"
    }
   ],
   "source": [
    "water_wells.head()"
   ]
  },
  {
   "cell_type": "code",
   "execution_count": 36,
   "metadata": {
    "scrolled": true
   },
   "outputs": [
    {
     "name": "stdout",
     "output_type": "stream",
     "text": [
      "<class 'pandas.core.frame.DataFrame'>\n",
      "Int64Index: 59400 entries, 0 to 59399\n",
      "Data columns (total 33 columns):\n",
      " #   Column                 Non-Null Count  Dtype  \n",
      "---  ------                 --------------  -----  \n",
      " 0   id                     59400 non-null  int64  \n",
      " 1   amount_tsh             59400 non-null  float64\n",
      " 2   funder                 55765 non-null  object \n",
      " 3   gps_height             59400 non-null  int64  \n",
      " 4   installer              55745 non-null  object \n",
      " 5   longitude              59400 non-null  float64\n",
      " 6   latitude               59400 non-null  float64\n",
      " 7   basin                  59400 non-null  object \n",
      " 8   subvillage             59029 non-null  object \n",
      " 9   region                 59400 non-null  object \n",
      " 10  lga                    59400 non-null  object \n",
      " 11  ward                   59400 non-null  object \n",
      " 12  population             59400 non-null  int64  \n",
      " 13  permit                 56344 non-null  object \n",
      " 14  construction_year      59400 non-null  int64  \n",
      " 15  extraction_type_class  59400 non-null  object \n",
      " 16  management             59400 non-null  object \n",
      " 17  payment_type           59400 non-null  object \n",
      " 18  quality_group          59400 non-null  object \n",
      " 19  quantity               59400 non-null  object \n",
      " 20  source_type            59400 non-null  object \n",
      " 21  waterpoint_type        59400 non-null  object \n",
      " 22  status_group           59400 non-null  object \n",
      " 23  status_group_num       59400 non-null  int64  \n",
      " 24  payment_num            59400 non-null  int64  \n",
      " 25  management_num         59400 non-null  int64  \n",
      " 26  basin_num              59400 non-null  int64  \n",
      " 27  qualtiy_group_num      59400 non-null  int64  \n",
      " 28  quantity_num           59400 non-null  int64  \n",
      " 29  source_type_num        59400 non-null  int64  \n",
      " 30  waterpoint_type_num    59400 non-null  int64  \n",
      " 31  region_num             59400 non-null  int64  \n",
      " 32  extraction_num         59400 non-null  int64  \n",
      "dtypes: float64(3), int64(14), object(16)\n",
      "memory usage: 15.4+ MB\n"
     ]
    }
   ],
   "source": [
    "water_wells.info()"
   ]
  },
  {
   "cell_type": "markdown",
   "metadata": {},
   "source": [
    "## Creating feature called well_age to see if age plays a part in functionality"
   ]
  },
  {
   "cell_type": "code",
   "execution_count": 37,
   "metadata": {
    "scrolled": true
   },
   "outputs": [
    {
     "data": {
      "text/plain": [
       "0       20709\n",
       "2010     2645\n",
       "2008     2613\n",
       "2009     2533\n",
       "2000     2091\n",
       "2007     1587\n",
       "2006     1471\n",
       "2003     1286\n",
       "2011     1256\n",
       "2004     1123\n",
       "2012     1084\n",
       "2002     1075\n",
       "1978     1037\n",
       "1995     1014\n",
       "2005     1011\n",
       "1999      979\n",
       "1998      966\n",
       "1990      954\n",
       "1985      945\n",
       "1980      811\n",
       "1996      811\n",
       "1984      779\n",
       "1982      744\n",
       "1994      738\n",
       "1972      708\n",
       "1974      676\n",
       "1997      644\n",
       "1992      640\n",
       "1993      608\n",
       "2001      540\n",
       "1988      521\n",
       "1983      488\n",
       "1975      437\n",
       "1986      434\n",
       "1976      414\n",
       "1970      411\n",
       "1991      324\n",
       "1989      316\n",
       "1987      302\n",
       "1981      238\n",
       "1977      202\n",
       "1979      192\n",
       "1973      184\n",
       "2013      176\n",
       "1971      145\n",
       "1960      102\n",
       "1967       88\n",
       "1963       85\n",
       "1968       77\n",
       "1969       59\n",
       "1964       40\n",
       "1962       30\n",
       "1961       21\n",
       "1965       19\n",
       "1966       17\n",
       "Name: construction_year, dtype: int64"
      ]
     },
     "execution_count": 37,
     "metadata": {},
     "output_type": "execute_result"
    }
   ],
   "source": [
    "water_wells['construction_year'].value_counts()"
   ]
  },
  {
   "cell_type": "code",
   "execution_count": 38,
   "metadata": {},
   "outputs": [
    {
     "data": {
      "text/plain": [
       "1986.0"
      ]
     },
     "execution_count": 38,
     "metadata": {},
     "output_type": "execute_result"
    }
   ],
   "source": [
    "water_wells['construction_year'].median()"
   ]
  },
  {
   "cell_type": "code",
   "execution_count": 39,
   "metadata": {},
   "outputs": [],
   "source": [
    "age_df = water_wells.copy()"
   ]
  },
  {
   "cell_type": "code",
   "execution_count": 40,
   "metadata": {
    "scrolled": true
   },
   "outputs": [
    {
     "data": {
      "text/plain": [
       "id                     37078.000000\n",
       "amount_tsh                 0.000000\n",
       "gps_height              1154.000000\n",
       "longitude                 36.648187\n",
       "latitude                  -6.064216\n",
       "population               150.000000\n",
       "permit                     1.000000\n",
       "construction_year       2000.000000\n",
       "status_group_num           0.000000\n",
       "payment_num                1.000000\n",
       "management_num             0.000000\n",
       "basin_num                  3.000000\n",
       "qualtiy_group_num          1.000000\n",
       "quantity_num               0.000000\n",
       "source_type_num            1.000000\n",
       "waterpoint_type_num        0.000000\n",
       "region_num                 8.000000\n",
       "extraction_num             0.000000\n",
       "dtype: float64"
      ]
     },
     "execution_count": 40,
     "metadata": {},
     "output_type": "execute_result"
    }
   ],
   "source": [
    "# Looking at median age of construction year\n",
    "median_age = age_df.loc[age_df['construction_year'] != 0].median()\n",
    "median_age"
   ]
  },
  {
   "cell_type": "code",
   "execution_count": 41,
   "metadata": {
    "scrolled": true
   },
   "outputs": [
    {
     "data": {
      "text/plain": [
       "id                     37083.008736\n",
       "amount_tsh               466.457534\n",
       "gps_height              1002.367760\n",
       "longitude                 35.983262\n",
       "latitude                  -6.235372\n",
       "population               269.799617\n",
       "permit                     0.717332\n",
       "construction_year       1996.814686\n",
       "status_group_num           0.504381\n",
       "payment_num                1.620273\n",
       "management_num             1.138146\n",
       "basin_num                  3.314414\n",
       "qualtiy_group_num          1.207438\n",
       "quantity_num               0.651443\n",
       "source_type_num            1.470497\n",
       "waterpoint_type_num        0.804166\n",
       "region_num                 8.484454\n",
       "extraction_num             1.009589\n",
       "dtype: float64"
      ]
     },
     "execution_count": 41,
     "metadata": {},
     "output_type": "execute_result"
    }
   ],
   "source": [
    "# Looking at mean age of construction year\n",
    "mean_age = age_df.loc[age_df['construction_year'] != 0].mean()\n",
    "mean_age"
   ]
  },
  {
   "cell_type": "code",
   "execution_count": 42,
   "metadata": {},
   "outputs": [],
   "source": [
    "# Final Line imputing median on 0s\n",
    "water_wells['construction_year'] = water_wells['construction_year'].replace(0,median_age['construction_year'])"
   ]
  },
  {
   "cell_type": "code",
   "execution_count": 43,
   "metadata": {},
   "outputs": [],
   "source": [
    "# Creating new feature well_age\n",
    "water_wells['well_age'] = (2022 - water_wells['construction_year'])"
   ]
  },
  {
   "cell_type": "code",
   "execution_count": 44,
   "metadata": {
    "scrolled": true
   },
   "outputs": [
    {
     "data": {
      "text/plain": [
       "22    22800\n",
       "12     2645\n",
       "14     2613\n",
       "13     2533\n",
       "15     1587\n",
       "16     1471\n",
       "19     1286\n",
       "11     1256\n",
       "18     1123\n",
       "10     1084\n",
       "20     1075\n",
       "44     1037\n",
       "27     1014\n",
       "17     1011\n",
       "23      979\n",
       "24      966\n",
       "32      954\n",
       "37      945\n",
       "42      811\n",
       "26      811\n",
       "38      779\n",
       "40      744\n",
       "28      738\n",
       "50      708\n",
       "48      676\n",
       "25      644\n",
       "30      640\n",
       "29      608\n",
       "21      540\n",
       "34      521\n",
       "39      488\n",
       "47      437\n",
       "36      434\n",
       "46      414\n",
       "52      411\n",
       "31      324\n",
       "33      316\n",
       "35      302\n",
       "41      238\n",
       "45      202\n",
       "43      192\n",
       "49      184\n",
       "9       176\n",
       "51      145\n",
       "62      102\n",
       "55       88\n",
       "59       85\n",
       "54       77\n",
       "53       59\n",
       "58       40\n",
       "60       30\n",
       "61       21\n",
       "57       19\n",
       "56       17\n",
       "Name: well_age, dtype: int64"
      ]
     },
     "execution_count": 44,
     "metadata": {},
     "output_type": "execute_result"
    }
   ],
   "source": [
    "# Confirming feature creation worked\n",
    "water_wells['well_age'].value_counts()"
   ]
  },
  {
   "cell_type": "code",
   "execution_count": 45,
   "metadata": {},
   "outputs": [],
   "source": [
    "splitdf = water_wells.copy()"
   ]
  },
  {
   "cell_type": "code",
   "execution_count": 46,
   "metadata": {
    "scrolled": true
   },
   "outputs": [
    {
     "data": {
      "text/plain": [
       "Index(['id', 'amount_tsh', 'funder', 'gps_height', 'installer', 'longitude',\n",
       "       'latitude', 'basin', 'subvillage', 'region', 'lga', 'ward',\n",
       "       'population', 'permit', 'construction_year', 'extraction_type_class',\n",
       "       'management', 'payment_type', 'quality_group', 'quantity',\n",
       "       'source_type', 'waterpoint_type', 'status_group', 'status_group_num',\n",
       "       'payment_num', 'management_num', 'basin_num', 'qualtiy_group_num',\n",
       "       'quantity_num', 'source_type_num', 'waterpoint_type_num', 'region_num',\n",
       "       'extraction_num', 'well_age'],\n",
       "      dtype='object')"
      ]
     },
     "execution_count": 46,
     "metadata": {},
     "output_type": "execute_result"
    }
   ],
   "source": [
    "splitdf.columns"
   ]
  },
  {
   "cell_type": "code",
   "execution_count": 47,
   "metadata": {},
   "outputs": [],
   "source": [
    "# Dropping permit's null values because 2400 out of the total data set size is negligible\n",
    "splitdf.dropna(subset=['permit'], inplace=True)"
   ]
  },
  {
   "cell_type": "code",
   "execution_count": 48,
   "metadata": {},
   "outputs": [
    {
     "data": {
      "text/plain": [
       "id                          0\n",
       "amount_tsh                  0\n",
       "funder                   1217\n",
       "gps_height                  0\n",
       "installer                1242\n",
       "longitude                   0\n",
       "latitude                    0\n",
       "basin                       0\n",
       "subvillage                371\n",
       "region                      0\n",
       "lga                         0\n",
       "ward                        0\n",
       "population                  0\n",
       "permit                      0\n",
       "construction_year           0\n",
       "extraction_type_class       0\n",
       "management                  0\n",
       "payment_type                0\n",
       "quality_group               0\n",
       "quantity                    0\n",
       "source_type                 0\n",
       "waterpoint_type             0\n",
       "status_group                0\n",
       "status_group_num            0\n",
       "payment_num                 0\n",
       "management_num              0\n",
       "basin_num                   0\n",
       "qualtiy_group_num           0\n",
       "quantity_num                0\n",
       "source_type_num             0\n",
       "waterpoint_type_num         0\n",
       "region_num                  0\n",
       "extraction_num              0\n",
       "well_age                    0\n",
       "dtype: int64"
      ]
     },
     "execution_count": 48,
     "metadata": {},
     "output_type": "execute_result"
    }
   ],
   "source": [
    "splitdf.isna().sum()"
   ]
  },
  {
   "cell_type": "code",
   "execution_count": 49,
   "metadata": {},
   "outputs": [],
   "source": [
    "# Setting up train-test split\n",
    "X = splitdf.drop(columns = ['funder', 'installer',\n",
    "       'basin', 'subvillage', 'region', 'lga', 'ward',\n",
    "       'extraction_type_class',\n",
    "       'management', 'payment_type', 'quality_group', 'quantity',\n",
    "       'source_type', 'waterpoint_type', 'status_group', 'status_group_num'], axis = 1)\n",
    "y = splitdf['status_group_num']\n",
    "\n",
    "X_train, X_test, y_train, y_test = train_test_split(X, y, test_size = 0.20, random_state = 42)"
   ]
  },
  {
   "cell_type": "code",
   "execution_count": 50,
   "metadata": {},
   "outputs": [
    {
     "name": "stdout",
     "output_type": "stream",
     "text": [
      "(45075, 18)\n",
      "(11269, 18)\n",
      "True\n",
      "True\n"
     ]
    }
   ],
   "source": [
    "# Look at shape\n",
    "print(X_train.shape)\n",
    "print(X_test.shape)\n",
    "# Check the shapes to see if the split worked.\n",
    "print(X_train.shape[0] == y_train.shape[0])\n",
    "print(X_test.shape[0] == y_test.shape[0])"
   ]
  },
  {
   "cell_type": "code",
   "execution_count": 51,
   "metadata": {},
   "outputs": [
    {
     "data": {
      "text/plain": [
       "0.5445812534664448"
      ]
     },
     "execution_count": 51,
     "metadata": {},
     "output_type": "execute_result"
    }
   ],
   "source": [
    "# Setting up Dummy Classifier for our baseline metrics\n",
    "dummy_model = DummyClassifier(strategy=\"most_frequent\")\n",
    "dummy_model.fit(X_train, y_train)\n",
    "dummy_model.predict(X_train)\n",
    "dummy_model.score(X_train, y_train)"
   ]
  },
  {
   "cell_type": "code",
   "execution_count": 52,
   "metadata": {},
   "outputs": [
    {
     "data": {
      "text/plain": [
       "0.5445812534664449"
      ]
     },
     "execution_count": 52,
     "metadata": {},
     "output_type": "execute_result"
    }
   ],
   "source": [
    "# Looking at the cross val score for our dummy model\n",
    "cross_val_score(dummy_model, X_train, y_train, cv = 5).mean()"
   ]
  },
  {
   "cell_type": "code",
   "execution_count": 53,
   "metadata": {},
   "outputs": [
    {
     "data": {
      "image/png": "[encoded data removed]",
      "text/plain": [
       "<Figure size 432x288 with 2 Axes>"
      ]
     },
     "metadata": {
      "needs_background": "light"
     },
     "output_type": "display_data"
    }
   ],
   "source": [
    "# Confusion matrix for the dummy model\n",
    "fig, ax = plt.subplots()\n",
    "\n",
    "fig.suptitle(\"Dummy Model\")\n",
    "\n",
    "plot_confusion_matrix(dummy_model, X_train, y_train, ax=ax);"
   ]
  },
  {
   "cell_type": "code",
   "execution_count": 54,
   "metadata": {
    "scrolled": true
   },
   "outputs": [
    {
     "name": "stdout",
     "output_type": "stream",
     "text": [
      "\n",
      "- Dummy Model - \n",
      "Accuracy score: 0.535894933002041\n",
      "Recall score: 0.535894933002041\n",
      "Precision score: 0.287183379217262\n",
      "\n"
     ]
    },
    {
     "name": "stderr",
     "output_type": "stream",
     "text": [
      "C:\\Users\\Coldk\\anaconda3\\envs\\learn-env\\lib\\site-packages\\sklearn\\metrics\\_classification.py:1221: UndefinedMetricWarning: Precision is ill-defined and being set to 0.0 in labels with no predicted samples. Use `zero_division` parameter to control this behavior.\n",
      "  _warn_prf(average, modifier, msg_start, len(result))\n"
     ]
    }
   ],
   "source": [
    "# Obtaining the accuracy, recall score, and precision score for the dummy model\n",
    "y_pred_dummy = dummy_model.predict(X_test)\n",
    "\n",
    "accuracy_dummy = accuracy_score(y_test, y_pred_dummy)\n",
    "recall_dummy = recall_score(y_test, y_pred_dummy, average='weighted')\n",
    "precision_dummy = precision_score(y_test, y_pred_dummy, average='weighted')\n",
    "\n",
    "print(f\"\"\"\n",
    "- Dummy Model - \n",
    "Accuracy score: {accuracy_dummy}\n",
    "Recall score: {recall_dummy}\n",
    "Precision score: {precision_dummy}\n",
    "\"\"\")"
   ]
  },
  {
   "cell_type": "markdown",
   "metadata": {},
   "source": [
    "## Data Cleaning"
   ]
  },
  {
   "cell_type": "code",
   "execution_count": 55,
   "metadata": {
    "scrolled": false
   },
   "outputs": [
    {
     "data": {
      "text/plain": [
       "id                     0\n",
       "amount_tsh             0\n",
       "gps_height             0\n",
       "longitude              0\n",
       "latitude               0\n",
       "population             0\n",
       "permit                 0\n",
       "construction_year      0\n",
       "payment_num            0\n",
       "management_num         0\n",
       "basin_num              0\n",
       "qualtiy_group_num      0\n",
       "quantity_num           0\n",
       "source_type_num        0\n",
       "waterpoint_type_num    0\n",
       "region_num             0\n",
       "extraction_num         0\n",
       "well_age               0\n",
       "dtype: int64"
      ]
     },
     "execution_count": 55,
     "metadata": {},
     "output_type": "execute_result"
    }
   ],
   "source": [
    "# Looking at remaining null values\n",
    "X_train.isna().sum()"
   ]
  },
  {
   "cell_type": "code",
   "execution_count": 56,
   "metadata": {
    "scrolled": true
   },
   "outputs": [],
   "source": [
    "# Originally tried to drop nulls after split, but warnings\n",
    "# Dropping permit's null values because 2400 out of the total data set size is negligible\n",
    "# X_train['permit'].dropna(inplace=True)"
   ]
  },
  {
   "cell_type": "markdown",
   "metadata": {},
   "source": [
    "## Decision Tree Modeling for Feature Importance"
   ]
  },
  {
   "cell_type": "code",
   "execution_count": null,
   "metadata": {},
   "outputs": [],
   "source": []
  }
 ],
 "metadata": {
  "kernelspec": {
   "display_name": "Python (learn-env)",
   "language": "python",
   "name": "learn-env"
  },
  "language_info": {
   "codemirror_mode": {
    "name": "ipython",
    "version": 3
   },
   "file_extension": ".py",
   "mimetype": "text/x-python",
   "name": "python",
   "nbconvert_exporter": "python",
   "pygments_lexer": "ipython3",
   "version": "3.8.5"
  }
 },
 "nbformat": 4,
 "nbformat_minor": 4
}
